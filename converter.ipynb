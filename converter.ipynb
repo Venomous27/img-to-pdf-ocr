{
  "cells": [
    {
      "cell_type": "markdown",
      "metadata": {},
      "source": [
        "# 📄 Image → PDF & PDF → OCR (Searchable)\n",
        "Convert **images to a PDF** or **PDF to OCR (searchable)**.\n",
        "Works on **PC & Mobile** in Google Colab."
      ]
    },
    {
      "cell_type": "code",
      "metadata": {},
      "source": [
        "# ⬇️ Install dependencies\n",
        "!pip -q install pillow pytesseract pymupdf\n",
        "!apt-get -qq update\n",
        "!apt-get -qq install -y tesseract-ocr   # English is built-in\n",
        "\n",
        "import pytesseract, fitz\n",
        "from PIL import Image\n",
        "from google.colab import files\n",
        "import io\n",
        "print('✅ Setup complete with English OCR!')"
      ]
    },
    {
      "cell_type": "markdown",
      "metadata": {},
      "source": ["## 1) 🖼️ Images → PDF"]
    },
    {
      "cell_type": "code",
      "metadata": {},
      "source": [
        "print('📤 Upload images...')\n",
        "uploaded = files.upload()\n",
        "filenames = list(uploaded.keys())\n",
        "images = [Image.open(io.BytesIO(uploaded[f])).convert('RGB') for f in filenames]\n",
        "\n",
        "output_pdf = 'images_to_pdf_output.pdf'\n",
        "if len(images) == 1:\n",
        "    images[0].save(output_pdf)\n",
        "else:\n",
        "    images[0].save(output_pdf, save_all=True, append_images=images[1:])\n",
        "\n",
        "print('✅ Done:', output_pdf)\n",
        "files.download(output_pdf)"
      ]
    },
    {
      "cell_type": "markdown",
      "metadata": {},
      "source": ["## 2) 📄 PDF → OCR (Searchable PDF)"]
    },
    {
      "cell_type": "code",
      "metadata": {},
      "source": [
        "print('📤 Upload a PDF...')\n",
        "uploaded_pdf = files.upload()\n",
        "input_pdf_name = list(uploaded_pdf.keys())[0]\n",
        "\n",
        "output_pdf = 'output_ocr.pdf'\n",
        "lang = 'eng'   # English OCR\n",
        "zoom = 2.0     # increase to 3.0 if text is blurry\n",
        "\n",
        "doc = fitz.open(stream=uploaded_pdf[input_pdf_name], filetype='pdf')\n",
        "new_doc = fitz.open()\n",
        "for page in doc:\n",
        "    pix = page.get_pixmap(matrix=fitz.Matrix(zoom, zoom))\n",
        "    img = Image.frombytes('RGB', [pix.width, pix.height], pix.samples)\n",
        "    pdf_bytes = pytesseract.image_to_pdf_or_hocr(img, lang=lang, extension='pdf')\n",
        "    new_doc.insert_pdf(fitz.open('pdf', pdf_bytes))\n",
        "\n",
        "new_doc.save(output_pdf)\n",
        "new_doc.close()\n",
        "doc.close()\n",
        "\n",
        "print('✅ OCR PDF created:', output_pdf)\n",
        "files.download(output_pdf)"
      ]
    }
  ],
  "metadata": {
    "colab": {
      "name": "converter.ipynb"
    },
    "kernelspec": {
      "display_name": "Python 3",
      "language": "python",
      "name": "python3"
    }
  },
  "nbformat": 4,
  "nbformat_minor": 0
}
